{
 "cells": [
  {
   "cell_type": "markdown",
   "metadata": {},
   "source": [
    "# Machine learning for Transformer Health Index Analysis"
   ]
  },
  {
   "cell_type": "markdown",
   "metadata": {},
   "source": [
    "<p style=\"background-color:azure;padding:10px;border:2px solid lightsteelblue\"><b>Author:</b> Petar Sarajcev, PhD (petar.sarajcev@fesb.hr)\n",
    "<br>\n",
    "University of Split, FESB, Department of Power Engineering <br>R. Boskovica 32, HR-21000 Split, Croatia, EU.</p>"
   ]
  },
  {
   "cell_type": "code",
   "execution_count": 1,
   "metadata": {},
   "outputs": [],
   "source": [
    "from __future__ import print_function"
   ]
  },
  {
   "cell_type": "code",
   "execution_count": 2,
   "metadata": {},
   "outputs": [],
   "source": [
    "import warnings\n",
    "import exceptions as ex"
   ]
  },
  {
   "cell_type": "code",
   "execution_count": 3,
   "metadata": {},
   "outputs": [],
   "source": [
    "# Ignore warnings\n",
    "warnings.filterwarnings(action='ignore', category=ex.FutureWarning)"
   ]
  },
  {
   "cell_type": "code",
   "execution_count": 4,
   "metadata": {},
   "outputs": [],
   "source": [
    "import numpy as np\n",
    "import pandas as pd\n",
    "import seaborn as sns\n",
    "import matplotlib.pyplot as plt"
   ]
  },
  {
   "cell_type": "code",
   "execution_count": 5,
   "metadata": {},
   "outputs": [],
   "source": [
    "from sklearn import metrics\n",
    "from sklearn import preprocessing\n",
    "from sklearn.linear_model import LogisticRegression\n",
    "from sklearn.neighbors import KNeighborsClassifier\n",
    "from sklearn.ensemble import ExtraTreesClassifier\n",
    "from sklearn.ensemble import RandomForestClassifier\n",
    "from sklearn.ensemble import GradientBoostingClassifier\n",
    "from sklearn.ensemble import VotingClassifier\n",
    "from sklearn.model_selection import GridSearchCV\n",
    "from sklearn.model_selection import KFold, cross_val_score"
   ]
  },
  {
   "cell_type": "code",
   "execution_count": 6,
   "metadata": {},
   "outputs": [
    {
     "name": "stderr",
     "output_type": "stream",
     "text": [
      "Using TensorFlow backend.\n"
     ]
    }
   ],
   "source": [
    "# Artifical Neural Networks\n",
    "import keras"
   ]
  },
  {
   "cell_type": "code",
   "execution_count": 7,
   "metadata": {},
   "outputs": [],
   "source": [
    "# Inline figures\n",
    "%matplotlib inline"
   ]
  },
  {
   "cell_type": "code",
   "execution_count": 8,
   "metadata": {},
   "outputs": [],
   "source": [
    "# Figure aesthetics\n",
    "sns.set(context='notebook', style='white', font_scale=1.2)\n",
    "sns.set_style('ticks', {'xtick.direction':'in', 'ytick.direction':'in'})"
   ]
  },
  {
   "cell_type": "markdown",
   "metadata": {},
   "source": [
    "### Transformer diagnostic data and health index values"
   ]
  },
  {
   "cell_type": "markdown",
   "metadata": {},
   "source": [
    "Transformer diagnostic tests are described in terms of the following six parameters:\n",
    "* Water (ppm)\n",
    "* Acidity (mgKOH/g)\n",
    "* DBV (kV)\n",
    "* Dissipation factor (%)\n",
    "* TDCG (ppm)\n",
    "* Furan (mg/L)\n",
    "\n",
    "with following meaning: water content in the transformer oil in ppm (Water), total acidity of the oil in mgKOH/g (Acidity), dissolved combustible gases in ppm (TDCG), oil breakdown voltage in kV (DBV), dissipation factor in percent (DF), and 2-Furfuraldehyde content in mg/L (Furan)."
   ]
  },
  {
   "cell_type": "code",
   "execution_count": 9,
   "metadata": {},
   "outputs": [
    {
     "data": {
      "text/html": [
       "<div>\n",
       "<style scoped>\n",
       "    .dataframe tbody tr th:only-of-type {\n",
       "        vertical-align: middle;\n",
       "    }\n",
       "\n",
       "    .dataframe tbody tr th {\n",
       "        vertical-align: top;\n",
       "    }\n",
       "\n",
       "    .dataframe thead th {\n",
       "        text-align: right;\n",
       "    }\n",
       "</style>\n",
       "<table border=\"1\" class=\"dataframe\">\n",
       "  <thead>\n",
       "    <tr style=\"text-align: right;\">\n",
       "      <th></th>\n",
       "      <th>Water</th>\n",
       "      <th>Acidity</th>\n",
       "      <th>DBV</th>\n",
       "      <th>DF</th>\n",
       "      <th>TDCG</th>\n",
       "      <th>Furan</th>\n",
       "      <th>GRNN-S</th>\n",
       "      <th>GRNN</th>\n",
       "    </tr>\n",
       "  </thead>\n",
       "  <tbody>\n",
       "    <tr>\n",
       "      <th>0</th>\n",
       "      <td>21.7</td>\n",
       "      <td>0.024</td>\n",
       "      <td>32.5</td>\n",
       "      <td>0.075</td>\n",
       "      <td>483</td>\n",
       "      <td>0.86</td>\n",
       "      <td>0.370</td>\n",
       "      <td>G</td>\n",
       "    </tr>\n",
       "    <tr>\n",
       "      <th>1</th>\n",
       "      <td>26.9</td>\n",
       "      <td>0.098</td>\n",
       "      <td>40.5</td>\n",
       "      <td>0.894</td>\n",
       "      <td>254</td>\n",
       "      <td>0.65</td>\n",
       "      <td>0.560</td>\n",
       "      <td>M</td>\n",
       "    </tr>\n",
       "    <tr>\n",
       "      <th>2</th>\n",
       "      <td>14.5</td>\n",
       "      <td>0.033</td>\n",
       "      <td>58.0</td>\n",
       "      <td>0.140</td>\n",
       "      <td>78</td>\n",
       "      <td>0.26</td>\n",
       "      <td>0.047</td>\n",
       "      <td>VG</td>\n",
       "    </tr>\n",
       "    <tr>\n",
       "      <th>3</th>\n",
       "      <td>21.2</td>\n",
       "      <td>0.226</td>\n",
       "      <td>48.7</td>\n",
       "      <td>0.424</td>\n",
       "      <td>215</td>\n",
       "      <td>5.53</td>\n",
       "      <td>0.780</td>\n",
       "      <td>B</td>\n",
       "    </tr>\n",
       "    <tr>\n",
       "      <th>4</th>\n",
       "      <td>10.0</td>\n",
       "      <td>0.010</td>\n",
       "      <td>75.0</td>\n",
       "      <td>0.111</td>\n",
       "      <td>126</td>\n",
       "      <td>0.06</td>\n",
       "      <td>0.030</td>\n",
       "      <td>VG</td>\n",
       "    </tr>\n",
       "    <tr>\n",
       "      <th>5</th>\n",
       "      <td>15.5</td>\n",
       "      <td>0.075</td>\n",
       "      <td>71.0</td>\n",
       "      <td>0.143</td>\n",
       "      <td>38</td>\n",
       "      <td>0.53</td>\n",
       "      <td>0.085</td>\n",
       "      <td>VG</td>\n",
       "    </tr>\n",
       "    <tr>\n",
       "      <th>6</th>\n",
       "      <td>16.8</td>\n",
       "      <td>0.167</td>\n",
       "      <td>70.1</td>\n",
       "      <td>0.255</td>\n",
       "      <td>149</td>\n",
       "      <td>0.78</td>\n",
       "      <td>0.316</td>\n",
       "      <td>G</td>\n",
       "    </tr>\n",
       "    <tr>\n",
       "      <th>7</th>\n",
       "      <td>15.0</td>\n",
       "      <td>0.092</td>\n",
       "      <td>67.8</td>\n",
       "      <td>0.211</td>\n",
       "      <td>28</td>\n",
       "      <td>0.69</td>\n",
       "      <td>0.133</td>\n",
       "      <td>VG</td>\n",
       "    </tr>\n",
       "    <tr>\n",
       "      <th>8</th>\n",
       "      <td>17.0</td>\n",
       "      <td>0.035</td>\n",
       "      <td>62.7</td>\n",
       "      <td>0.113</td>\n",
       "      <td>9</td>\n",
       "      <td>0.21</td>\n",
       "      <td>0.040</td>\n",
       "      <td>VG</td>\n",
       "    </tr>\n",
       "    <tr>\n",
       "      <th>9</th>\n",
       "      <td>30.0</td>\n",
       "      <td>0.088</td>\n",
       "      <td>37.6</td>\n",
       "      <td>0.353</td>\n",
       "      <td>197</td>\n",
       "      <td>0.31</td>\n",
       "      <td>0.586</td>\n",
       "      <td>M</td>\n",
       "    </tr>\n",
       "    <tr>\n",
       "      <th>10</th>\n",
       "      <td>16.2</td>\n",
       "      <td>0.181</td>\n",
       "      <td>25.5</td>\n",
       "      <td>0.201</td>\n",
       "      <td>35</td>\n",
       "      <td>8.76</td>\n",
       "      <td>0.930</td>\n",
       "      <td>VB</td>\n",
       "    </tr>\n",
       "    <tr>\n",
       "      <th>11</th>\n",
       "      <td>15.0</td>\n",
       "      <td>0.155</td>\n",
       "      <td>37.5</td>\n",
       "      <td>0.182</td>\n",
       "      <td>53</td>\n",
       "      <td>7.29</td>\n",
       "      <td>0.690</td>\n",
       "      <td>B</td>\n",
       "    </tr>\n",
       "    <tr>\n",
       "      <th>12</th>\n",
       "      <td>16.8</td>\n",
       "      <td>0.115</td>\n",
       "      <td>25.6</td>\n",
       "      <td>0.174</td>\n",
       "      <td>78</td>\n",
       "      <td>9.60</td>\n",
       "      <td>0.830</td>\n",
       "      <td>VB</td>\n",
       "    </tr>\n",
       "    <tr>\n",
       "      <th>13</th>\n",
       "      <td>15.0</td>\n",
       "      <td>0.210</td>\n",
       "      <td>57.0</td>\n",
       "      <td>0.220</td>\n",
       "      <td>53</td>\n",
       "      <td>6.69</td>\n",
       "      <td>0.590</td>\n",
       "      <td>B</td>\n",
       "    </tr>\n",
       "    <tr>\n",
       "      <th>14</th>\n",
       "      <td>27.6</td>\n",
       "      <td>0.089</td>\n",
       "      <td>30.4</td>\n",
       "      <td>0.128</td>\n",
       "      <td>336</td>\n",
       "      <td>5.12</td>\n",
       "      <td>0.700</td>\n",
       "      <td>B</td>\n",
       "    </tr>\n",
       "    <tr>\n",
       "      <th>15</th>\n",
       "      <td>23.5</td>\n",
       "      <td>0.106</td>\n",
       "      <td>45.8</td>\n",
       "      <td>0.207</td>\n",
       "      <td>30</td>\n",
       "      <td>0.24</td>\n",
       "      <td>0.399</td>\n",
       "      <td>G</td>\n",
       "    </tr>\n",
       "    <tr>\n",
       "      <th>16</th>\n",
       "      <td>24.8</td>\n",
       "      <td>0.012</td>\n",
       "      <td>29.9</td>\n",
       "      <td>0.068</td>\n",
       "      <td>504</td>\n",
       "      <td>1.68</td>\n",
       "      <td>0.450</td>\n",
       "      <td>M</td>\n",
       "    </tr>\n",
       "    <tr>\n",
       "      <th>17</th>\n",
       "      <td>23.6</td>\n",
       "      <td>0.070</td>\n",
       "      <td>39.2</td>\n",
       "      <td>0.203</td>\n",
       "      <td>22</td>\n",
       "      <td>0.50</td>\n",
       "      <td>0.406</td>\n",
       "      <td>G</td>\n",
       "    </tr>\n",
       "    <tr>\n",
       "      <th>18</th>\n",
       "      <td>30.5</td>\n",
       "      <td>0.073</td>\n",
       "      <td>28.7</td>\n",
       "      <td>67.000</td>\n",
       "      <td>30</td>\n",
       "      <td>1.70</td>\n",
       "      <td>0.790</td>\n",
       "      <td>B</td>\n",
       "    </tr>\n",
       "    <tr>\n",
       "      <th>19</th>\n",
       "      <td>18.4</td>\n",
       "      <td>0.063</td>\n",
       "      <td>64.5</td>\n",
       "      <td>0.243</td>\n",
       "      <td>69</td>\n",
       "      <td>0.15</td>\n",
       "      <td>0.119</td>\n",
       "      <td>VG</td>\n",
       "    </tr>\n",
       "    <tr>\n",
       "      <th>20</th>\n",
       "      <td>21.1</td>\n",
       "      <td>0.019</td>\n",
       "      <td>28.4</td>\n",
       "      <td>0.025</td>\n",
       "      <td>144</td>\n",
       "      <td>0.02</td>\n",
       "      <td>0.360</td>\n",
       "      <td>G</td>\n",
       "    </tr>\n",
       "    <tr>\n",
       "      <th>21</th>\n",
       "      <td>8.1</td>\n",
       "      <td>0.010</td>\n",
       "      <td>66.9</td>\n",
       "      <td>0.042</td>\n",
       "      <td>71</td>\n",
       "      <td>0.05</td>\n",
       "      <td>0.040</td>\n",
       "      <td>VG</td>\n",
       "    </tr>\n",
       "    <tr>\n",
       "      <th>22</th>\n",
       "      <td>19.6</td>\n",
       "      <td>0.216</td>\n",
       "      <td>41.1</td>\n",
       "      <td>0.264</td>\n",
       "      <td>48</td>\n",
       "      <td>7.54</td>\n",
       "      <td>0.850</td>\n",
       "      <td>VB</td>\n",
       "    </tr>\n",
       "    <tr>\n",
       "      <th>23</th>\n",
       "      <td>6.0</td>\n",
       "      <td>0.010</td>\n",
       "      <td>67.6</td>\n",
       "      <td>0.126</td>\n",
       "      <td>427</td>\n",
       "      <td>0.08</td>\n",
       "      <td>0.015</td>\n",
       "      <td>VG</td>\n",
       "    </tr>\n",
       "    <tr>\n",
       "      <th>24</th>\n",
       "      <td>18.4</td>\n",
       "      <td>0.152</td>\n",
       "      <td>37.2</td>\n",
       "      <td>0.299</td>\n",
       "      <td>81</td>\n",
       "      <td>1.14</td>\n",
       "      <td>0.550</td>\n",
       "      <td>M</td>\n",
       "    </tr>\n",
       "    <tr>\n",
       "      <th>25</th>\n",
       "      <td>11.1</td>\n",
       "      <td>0.032</td>\n",
       "      <td>67.2</td>\n",
       "      <td>0.089</td>\n",
       "      <td>119</td>\n",
       "      <td>0.04</td>\n",
       "      <td>0.010</td>\n",
       "      <td>VG</td>\n",
       "    </tr>\n",
       "    <tr>\n",
       "      <th>26</th>\n",
       "      <td>21.5</td>\n",
       "      <td>0.147</td>\n",
       "      <td>60.8</td>\n",
       "      <td>0.938</td>\n",
       "      <td>168</td>\n",
       "      <td>0.92</td>\n",
       "      <td>0.610</td>\n",
       "      <td>M</td>\n",
       "    </tr>\n",
       "    <tr>\n",
       "      <th>27</th>\n",
       "      <td>7.5</td>\n",
       "      <td>0.160</td>\n",
       "      <td>70.1</td>\n",
       "      <td>0.448</td>\n",
       "      <td>10</td>\n",
       "      <td>0.06</td>\n",
       "      <td>0.314</td>\n",
       "      <td>G</td>\n",
       "    </tr>\n",
       "    <tr>\n",
       "      <th>28</th>\n",
       "      <td>13.0</td>\n",
       "      <td>0.091</td>\n",
       "      <td>51.6</td>\n",
       "      <td>0.369</td>\n",
       "      <td>8</td>\n",
       "      <td>0.32</td>\n",
       "      <td>0.238</td>\n",
       "      <td>G</td>\n",
       "    </tr>\n",
       "    <tr>\n",
       "      <th>29</th>\n",
       "      <td>35.7</td>\n",
       "      <td>0.229</td>\n",
       "      <td>41.4</td>\n",
       "      <td>0.639</td>\n",
       "      <td>24</td>\n",
       "      <td>1.07</td>\n",
       "      <td>0.790</td>\n",
       "      <td>B</td>\n",
       "    </tr>\n",
       "  </tbody>\n",
       "</table>\n",
       "</div>"
      ],
      "text/plain": [
       "    Water  Acidity   DBV      DF  TDCG  Furan  GRNN-S GRNN\n",
       "0    21.7    0.024  32.5   0.075   483   0.86   0.370    G\n",
       "1    26.9    0.098  40.5   0.894   254   0.65   0.560    M\n",
       "2    14.5    0.033  58.0   0.140    78   0.26   0.047   VG\n",
       "3    21.2    0.226  48.7   0.424   215   5.53   0.780    B\n",
       "4    10.0    0.010  75.0   0.111   126   0.06   0.030   VG\n",
       "5    15.5    0.075  71.0   0.143    38   0.53   0.085   VG\n",
       "6    16.8    0.167  70.1   0.255   149   0.78   0.316    G\n",
       "7    15.0    0.092  67.8   0.211    28   0.69   0.133   VG\n",
       "8    17.0    0.035  62.7   0.113     9   0.21   0.040   VG\n",
       "9    30.0    0.088  37.6   0.353   197   0.31   0.586    M\n",
       "10   16.2    0.181  25.5   0.201    35   8.76   0.930   VB\n",
       "11   15.0    0.155  37.5   0.182    53   7.29   0.690    B\n",
       "12   16.8    0.115  25.6   0.174    78   9.60   0.830   VB\n",
       "13   15.0    0.210  57.0   0.220    53   6.69   0.590    B\n",
       "14   27.6    0.089  30.4   0.128   336   5.12   0.700    B\n",
       "15   23.5    0.106  45.8   0.207    30   0.24   0.399    G\n",
       "16   24.8    0.012  29.9   0.068   504   1.68   0.450    M\n",
       "17   23.6    0.070  39.2   0.203    22   0.50   0.406    G\n",
       "18   30.5    0.073  28.7  67.000    30   1.70   0.790    B\n",
       "19   18.4    0.063  64.5   0.243    69   0.15   0.119   VG\n",
       "20   21.1    0.019  28.4   0.025   144   0.02   0.360    G\n",
       "21    8.1    0.010  66.9   0.042    71   0.05   0.040   VG\n",
       "22   19.6    0.216  41.1   0.264    48   7.54   0.850   VB\n",
       "23    6.0    0.010  67.6   0.126   427   0.08   0.015   VG\n",
       "24   18.4    0.152  37.2   0.299    81   1.14   0.550    M\n",
       "25   11.1    0.032  67.2   0.089   119   0.04   0.010   VG\n",
       "26   21.5    0.147  60.8   0.938   168   0.92   0.610    M\n",
       "27    7.5    0.160  70.1   0.448    10   0.06   0.314    G\n",
       "28   13.0    0.091  51.6   0.369     8   0.32   0.238    G\n",
       "29   35.7    0.229  41.4   0.639    24   1.07   0.790    B"
      ]
     },
     "execution_count": 9,
     "metadata": {},
     "output_type": "execute_result"
    }
   ],
   "source": [
    "data = pd.read_csv('Health_index.csv')\n",
    "data.drop(labels=['No.', 'AMHA-S', 'AMHA', 'Fuzzy-S', 'Fuzzy', 'LogReg-S', 'LogReg'], axis=1, inplace=True)\n",
    "data"
   ]
  },
  {
   "cell_type": "code",
   "execution_count": 10,
   "metadata": {},
   "outputs": [
    {
     "data": {
      "text/plain": [
       "VG    0.300000\n",
       "G     0.233333\n",
       "B     0.200000\n",
       "M     0.166667\n",
       "VB    0.100000\n",
       "Name: GRNN, dtype: float64"
      ]
     },
     "execution_count": 10,
     "metadata": {},
     "output_type": "execute_result"
    }
   ],
   "source": [
    "data['GRNN'].value_counts()/data['GRNN'].value_counts().sum()"
   ]
  },
  {
   "cell_type": "code",
   "execution_count": 11,
   "metadata": {},
   "outputs": [
    {
     "data": {
      "text/html": [
       "<div>\n",
       "<style scoped>\n",
       "    .dataframe tbody tr th:only-of-type {\n",
       "        vertical-align: middle;\n",
       "    }\n",
       "\n",
       "    .dataframe tbody tr th {\n",
       "        vertical-align: top;\n",
       "    }\n",
       "\n",
       "    .dataframe thead th {\n",
       "        text-align: right;\n",
       "    }\n",
       "</style>\n",
       "<table border=\"1\" class=\"dataframe\">\n",
       "  <thead>\n",
       "    <tr style=\"text-align: right;\">\n",
       "      <th></th>\n",
       "      <th>Water</th>\n",
       "      <th>Acidity</th>\n",
       "      <th>DBV</th>\n",
       "      <th>DF</th>\n",
       "      <th>TDCG</th>\n",
       "      <th>Furan</th>\n",
       "      <th>GRNN-S</th>\n",
       "      <th>GRNN</th>\n",
       "    </tr>\n",
       "  </thead>\n",
       "  <tbody>\n",
       "    <tr>\n",
       "      <th>17</th>\n",
       "      <td>23.6</td>\n",
       "      <td>0.070</td>\n",
       "      <td>39.2</td>\n",
       "      <td>0.203</td>\n",
       "      <td>22</td>\n",
       "      <td>0.50</td>\n",
       "      <td>0.406</td>\n",
       "      <td>G</td>\n",
       "    </tr>\n",
       "    <tr>\n",
       "      <th>18</th>\n",
       "      <td>30.5</td>\n",
       "      <td>0.073</td>\n",
       "      <td>28.7</td>\n",
       "      <td>0.205</td>\n",
       "      <td>30</td>\n",
       "      <td>1.70</td>\n",
       "      <td>0.790</td>\n",
       "      <td>B</td>\n",
       "    </tr>\n",
       "    <tr>\n",
       "      <th>19</th>\n",
       "      <td>18.4</td>\n",
       "      <td>0.063</td>\n",
       "      <td>64.5</td>\n",
       "      <td>0.243</td>\n",
       "      <td>69</td>\n",
       "      <td>0.15</td>\n",
       "      <td>0.119</td>\n",
       "      <td>VG</td>\n",
       "    </tr>\n",
       "  </tbody>\n",
       "</table>\n",
       "</div>"
      ],
      "text/plain": [
       "    Water  Acidity   DBV     DF  TDCG  Furan  GRNN-S GRNN\n",
       "17   23.6    0.070  39.2  0.203    22   0.50   0.406    G\n",
       "18   30.5    0.073  28.7  0.205    30   1.70   0.790    B\n",
       "19   18.4    0.063  64.5  0.243    69   0.15   0.119   VG"
      ]
     },
     "execution_count": 11,
     "metadata": {},
     "output_type": "execute_result"
    }
   ],
   "source": [
    "# Correcting outlier with the median value of the data\n",
    "median = np.percentile(data['DF'], q=50)\n",
    "data.set_value(18, 'DF', median)\n",
    "data.iloc[17:20]"
   ]
  },
  {
   "cell_type": "code",
   "execution_count": 12,
   "metadata": {},
   "outputs": [],
   "source": [
    "# Column names\n",
    "values = ['Water', 'Acidity', 'DBV', 'DF', 'TDCG', 'Furan']\n",
    "values_all = ['Water', 'Acidity', 'DBV', 'DF', 'TDCG', 'Furan', 'GRNN-S']"
   ]
  },
  {
   "cell_type": "code",
   "execution_count": 13,
   "metadata": {},
   "outputs": [],
   "source": [
    "warnings.filterwarnings(action='ignore', category=ex.UserWarning)"
   ]
  },
  {
   "cell_type": "code",
   "execution_count": 14,
   "metadata": {},
   "outputs": [
    {
     "data": {
      "image/png": "[encoded data removed]",
      "text/plain": [
       "<Figure size 518.4x518.4 with 42 Axes>"
      ]
     },
     "metadata": {},
     "output_type": "display_data"
    }
   ],
   "source": [
    "g = sns.PairGrid(data[values], size=1.2)  # size in inches?!\n",
    "g.map_upper(plt.scatter);\n",
    "g.map_lower(sns.kdeplot, cmap='Blues_d');\n",
    "g.map_diag(plt.hist);"
   ]
  },
  {
   "cell_type": "markdown",
   "metadata": {},
   "source": [
    "### Pearson's correlation matrix (Predictivity)"
   ]
  },
  {
   "cell_type": "code",
   "execution_count": 15,
   "metadata": {},
   "outputs": [
    {
     "data": {
      "image/png": "[encoded data removed]",
      "text/plain": [
       "<Figure size 360x360 with 2 Axes>"
      ]
     },
     "metadata": {},
     "output_type": "display_data"
    }
   ],
   "source": [
    "# Predictivity (Pearson correlation matrix)\n",
    "pearson = data[values_all].corr('pearson')\n",
    "# Correlation matrix as heatmap (seaborn)\n",
    "fig, ax = plt.subplots(figsize=(5,5))\n",
    "sns.heatmap(pearson, annot=True, annot_kws=dict(size=10), vmin=-1, vmax=1, cmap=plt.cm.coolwarm, ax=ax)\n",
    "plt.tight_layout()\n",
    "plt.show()"
   ]
  },
  {
   "cell_type": "markdown",
   "metadata": {},
   "source": [
    "### Generate syntetic transformer data"
   ]
  },
  {
   "cell_type": "code",
   "execution_count": 16,
   "metadata": {},
   "outputs": [],
   "source": [
    "# Generate synthetic data using the \"data augmentation\" technique\n",
    "def trafo_measurements(df, num=100, fraction=0.1):\n",
    "    data = {}\n",
    "    idxmax = len(df.index)\n",
    "    ranvals = np.random.randint(low=0, high=idxmax, size=num)\n",
    "    for name in df.columns:\n",
    "        if name == 'GRNN-S':\n",
    "            data[name] = df[name].iloc[ranvals]\n",
    "        else:\n",
    "            sd = df[name].std()\n",
    "            datavals = df[name].iloc[ranvals].values\n",
    "            ransigns = np.random.choice([-1., 1.], size=num, replace=True)\n",
    "            synvalues = datavals + ransigns*(sd*fraction)\n",
    "            values = np.empty_like(synvalues)\n",
    "            for i, val in enumerate(synvalues):\n",
    "                if val > 0. or val is not np.NaN:\n",
    "                    values[i] = val\n",
    "                else:\n",
    "                    values[i] = datavals[i]\n",
    "            data[name] = np.round(values, decimals=3)\n",
    "    data = pd.DataFrame(data, columns=df.columns)\n",
    "    return data"
   ]
  },
  {
   "cell_type": "markdown",
   "metadata": {},
   "source": [
    "Health Index values:\n",
    "VB = 4 -> Very bad\n",
    " B = 3 -> Bad\n",
    " M = 2 -> Moderate\n",
    " G = 1 -> Good\n",
    "VG = 0 -> Very good "
   ]
  },
  {
   "cell_type": "code",
   "execution_count": 17,
   "metadata": {},
   "outputs": [],
   "source": [
    "def from_descr_to_score(description):\n",
    "    if description == 'VB':\n",
    "        score = 4\n",
    "    elif description == 'B':\n",
    "        score = 3\n",
    "    elif description == 'M':\n",
    "        score = 2\n",
    "    elif description == 'G':\n",
    "        score = 1\n",
    "    elif description == 'VG':\n",
    "        score = 0\n",
    "    else:\n",
    "        score = None\n",
    "        raise ValueError('Invalid class label {} encountered!'.format(description))\n",
    "    return score\n",
    "\n",
    "def from_score_to_descr(score):\n",
    "    if score <= 0.2:\n",
    "        description = 'VG'\n",
    "    elif 0.2 < score <= 0.4:\n",
    "        description = 'G'\n",
    "    elif 0.4 < score <= 0.6:\n",
    "        description = 'M'\n",
    "    elif 0.6 < score <= 0.8:\n",
    "        description = 'B'\n",
    "    elif 0.8 < score:\n",
    "        description = 'VB'\n",
    "    else:\n",
    "        description = None\n",
    "        raise ValueError('Score value {} is outside the intended range [0-1]!'.format(score))\n",
    "    return description\n",
    "\n",
    "def from_class_to_label(cl):\n",
    "    if cl == 4:\n",
    "        label = 'VB'\n",
    "    elif cl == 3:\n",
    "        label = 'B'\n",
    "    elif cl == 2:\n",
    "        label = 'M'\n",
    "    elif cl == 1:\n",
    "        label = 'G'\n",
    "    elif cl == 0:\n",
    "        label = 'VG'\n",
    "    else:\n",
    "        label = None\n",
    "        raise ValueError('Invalid class index {} encountered!'.format(cl))\n",
    "    return label"
   ]
  },
  {
   "cell_type": "code",
   "execution_count": 18,
   "metadata": {},
   "outputs": [],
   "source": [
    "# ancilary function from: https://github.com/amueller/introduction_to_ml_with_python/blob/master/mglearn/tools.py\n",
    "def heatmap(values, xlabel, ylabel, xticklabels, yticklabels, cmap=None,\n",
    "            vmin=None, vmax=None, ax=None, fmt=\"%0.2f\"):\n",
    "    if ax is None:\n",
    "        ax = plt.gca()\n",
    "    # plot the mean cross-validation scores\n",
    "    img = ax.pcolor(values, cmap=cmap, vmin=vmin, vmax=vmax)\n",
    "    img.update_scalarmappable()\n",
    "    ax.set_xlabel(xlabel)\n",
    "    ax.set_ylabel(ylabel)\n",
    "    ax.set_xticks(np.arange(len(xticklabels)) + .5)\n",
    "    ax.set_yticks(np.arange(len(yticklabels)) + .5)\n",
    "    ax.set_xticklabels(xticklabels)\n",
    "    ax.set_yticklabels(yticklabels)\n",
    "    ax.set_aspect(1)\n",
    "\n",
    "    for p, color, value in zip(img.get_paths(), img.get_facecolors(),\n",
    "                               img.get_array()):\n",
    "        x, y = p.vertices[:-2, :].mean(0)\n",
    "        if np.mean(color[:3]) > 0.5:\n",
    "            c = 'k'\n",
    "        else:\n",
    "            c = 'w'\n",
    "        ax.text(x, y, fmt % value, color=c, ha=\"center\", va=\"center\")\n",
    "    return img"
   ]
  },
  {
   "cell_type": "code",
   "execution_count": 19,
   "metadata": {},
   "outputs": [],
   "source": [
    "# Generate syntetic data using \"data augmentation\"\n",
    "syntetic = trafo_measurements(data[values_all], num=100)\n",
    "syntetic['GRNN'] = syntetic['GRNN-S'].apply(from_score_to_descr)"
   ]
  },
  {
   "cell_type": "code",
   "execution_count": 20,
   "metadata": {},
   "outputs": [
    {
     "data": {
      "text/html": [
       "<div>\n",
       "<style scoped>\n",
       "    .dataframe tbody tr th:only-of-type {\n",
       "        vertical-align: middle;\n",
       "    }\n",
       "\n",
       "    .dataframe tbody tr th {\n",
       "        vertical-align: top;\n",
       "    }\n",
       "\n",
       "    .dataframe thead th {\n",
       "        text-align: right;\n",
       "    }\n",
       "</style>\n",
       "<table border=\"1\" class=\"dataframe\">\n",
       "  <thead>\n",
       "    <tr style=\"text-align: right;\">\n",
       "      <th></th>\n",
       "      <th>Water</th>\n",
       "      <th>Acidity</th>\n",
       "      <th>DBV</th>\n",
       "      <th>DF</th>\n",
       "      <th>TDCG</th>\n",
       "      <th>Furan</th>\n",
       "      <th>GRNN-S</th>\n",
       "      <th>GRNN</th>\n",
       "      <th>score</th>\n",
       "    </tr>\n",
       "  </thead>\n",
       "  <tbody>\n",
       "    <tr>\n",
       "      <th>20</th>\n",
       "      <td>21.811</td>\n",
       "      <td>0.026</td>\n",
       "      <td>30.033</td>\n",
       "      <td>0.047</td>\n",
       "      <td>129.948</td>\n",
       "      <td>0.32</td>\n",
       "      <td>0.360</td>\n",
       "      <td>G</td>\n",
       "      <td>1</td>\n",
       "    </tr>\n",
       "    <tr>\n",
       "      <th>17</th>\n",
       "      <td>24.311</td>\n",
       "      <td>0.063</td>\n",
       "      <td>37.567</td>\n",
       "      <td>0.181</td>\n",
       "      <td>36.052</td>\n",
       "      <td>0.80</td>\n",
       "      <td>0.406</td>\n",
       "      <td>M</td>\n",
       "      <td>2</td>\n",
       "    </tr>\n",
       "    <tr>\n",
       "      <th>28</th>\n",
       "      <td>13.711</td>\n",
       "      <td>0.084</td>\n",
       "      <td>49.967</td>\n",
       "      <td>0.347</td>\n",
       "      <td>-6.052</td>\n",
       "      <td>0.62</td>\n",
       "      <td>0.238</td>\n",
       "      <td>G</td>\n",
       "      <td>1</td>\n",
       "    </tr>\n",
       "    <tr>\n",
       "      <th>20</th>\n",
       "      <td>20.389</td>\n",
       "      <td>0.012</td>\n",
       "      <td>30.033</td>\n",
       "      <td>0.003</td>\n",
       "      <td>158.052</td>\n",
       "      <td>0.32</td>\n",
       "      <td>0.360</td>\n",
       "      <td>G</td>\n",
       "      <td>1</td>\n",
       "    </tr>\n",
       "    <tr>\n",
       "      <th>16</th>\n",
       "      <td>25.511</td>\n",
       "      <td>0.005</td>\n",
       "      <td>28.267</td>\n",
       "      <td>0.090</td>\n",
       "      <td>518.052</td>\n",
       "      <td>1.38</td>\n",
       "      <td>0.450</td>\n",
       "      <td>M</td>\n",
       "      <td>2</td>\n",
       "    </tr>\n",
       "  </tbody>\n",
       "</table>\n",
       "</div>"
      ],
      "text/plain": [
       "     Water  Acidity     DBV     DF     TDCG  Furan  GRNN-S GRNN  score\n",
       "20  21.811    0.026  30.033  0.047  129.948   0.32   0.360    G      1\n",
       "17  24.311    0.063  37.567  0.181   36.052   0.80   0.406    M      2\n",
       "28  13.711    0.084  49.967  0.347   -6.052   0.62   0.238    G      1\n",
       "20  20.389    0.012  30.033  0.003  158.052   0.32   0.360    G      1\n",
       "16  25.511    0.005  28.267  0.090  518.052   1.38   0.450    M      2"
      ]
     },
     "execution_count": 20,
     "metadata": {},
     "output_type": "execute_result"
    }
   ],
   "source": [
    "data['score'] = data['GRNN'].apply(from_descr_to_score)\n",
    "syntetic['score'] = syntetic['GRNN'].apply(from_descr_to_score)\n",
    "syntetic.head()"
   ]
  },
  {
   "cell_type": "code",
   "execution_count": 21,
   "metadata": {},
   "outputs": [
    {
     "data": {
      "image/png": "[encoded data removed]",
      "text/plain": [
       "<Figure size 360x360 with 1 Axes>"
      ]
     },
     "metadata": {},
     "output_type": "display_data"
    }
   ],
   "source": [
    "# original transformer data using only two features\n",
    "plt.figure(figsize=(5,5))\n",
    "for outcome in data['score'].values:\n",
    "    plt.scatter(data[data.score == outcome].DBV, data[data.score == outcome].Furan, \n",
    "                s=150, marker='${}$'.format(from_class_to_label(outcome)))\n",
    "plt.grid()\n",
    "plt.xlabel('DBV (kV)')\n",
    "plt.ylabel('Furan (mg/L)')\n",
    "plt.show()"
   ]
  },
  {
   "cell_type": "code",
   "execution_count": 22,
   "metadata": {},
   "outputs": [
    {
     "data": {
      "image/png": "[encoded data removed]",
      "text/plain": [
       "<Figure size 360x360 with 1 Axes>"
      ]
     },
     "metadata": {},
     "output_type": "display_data"
    }
   ],
   "source": [
    "# original transformer data using only two features\n",
    "plt.figure(figsize=(5,5))\n",
    "for outcome in data['score'].values:\n",
    "    plt.scatter(data[data.score == outcome].Water, data[data.score == outcome].Furan, \n",
    "                s=150, marker='${}$'.format(from_class_to_label(outcome)))\n",
    "plt.grid()\n",
    "plt.xlabel('Water (ppm)')\n",
    "plt.ylabel('Furan (mg/L)')\n",
    "plt.show()"
   ]
  },
  {
   "cell_type": "markdown",
   "metadata": {},
   "source": [
    "### Data preprocessing and splitting"
   ]
  },
  {
   "cell_type": "code",
   "execution_count": 23,
   "metadata": {},
   "outputs": [],
   "source": [
    "y_t = data[['GRNN']].copy()  # instantiate dataframe for comparisons"
   ]
  },
  {
   "cell_type": "code",
   "execution_count": 24,
   "metadata": {},
   "outputs": [],
   "source": [
    "# Train data (synthetic)\n",
    "X_train = syntetic[values]\n",
    "y_train = syntetic['score'].values\n",
    "# Test data (actual)\n",
    "X_test = data[values]\n",
    "y_test = data['score'].values"
   ]
  },
  {
   "cell_type": "code",
   "execution_count": 25,
   "metadata": {},
   "outputs": [],
   "source": [
    "# Standardize the input data\n",
    "scaler = preprocessing.StandardScaler()\n",
    "X_train = scaler.fit_transform(X_train)\n",
    "X_test = scaler.transform(X_test)"
   ]
  },
  {
   "cell_type": "code",
   "execution_count": 26,
   "metadata": {},
   "outputs": [],
   "source": [
    "warnings.filterwarnings(action='ignore', category=ex.DeprecationWarning)"
   ]
  },
  {
   "cell_type": "markdown",
   "metadata": {},
   "source": [
    "### LogisticRegression for multiclass classification"
   ]
  },
  {
   "cell_type": "code",
   "execution_count": 27,
   "metadata": {},
   "outputs": [],
   "source": [
    "# Multinomial Logistic Regression (with fixed hyper-parameters)\n",
    "lreg = LogisticRegression(C=1., solver='newton-cg', multi_class='multinomial')  # fixed \"C\"\n",
    "lreg.fit(X_train, y_train)  # fit model to data\n",
    "y_lr = lreg.predict_proba(X_test)  # predict on new data"
   ]
  },
  {
   "cell_type": "code",
   "execution_count": 28,
   "metadata": {},
   "outputs": [
    {
     "data": {
      "text/html": [
       "<div>\n",
       "<style scoped>\n",
       "    .dataframe tbody tr th:only-of-type {\n",
       "        vertical-align: middle;\n",
       "    }\n",
       "\n",
       "    .dataframe tbody tr th {\n",
       "        vertical-align: top;\n",
       "    }\n",
       "\n",
       "    .dataframe thead th {\n",
       "        text-align: right;\n",
       "    }\n",
       "</style>\n",
       "<table border=\"1\" class=\"dataframe\">\n",
       "  <thead>\n",
       "    <tr style=\"text-align: right;\">\n",
       "      <th></th>\n",
       "      <th>GRNN</th>\n",
       "      <th>logreg</th>\n",
       "    </tr>\n",
       "  </thead>\n",
       "  <tbody>\n",
       "    <tr>\n",
       "      <th>0</th>\n",
       "      <td>G</td>\n",
       "      <td>G</td>\n",
       "    </tr>\n",
       "    <tr>\n",
       "      <th>1</th>\n",
       "      <td>M</td>\n",
       "      <td>B</td>\n",
       "    </tr>\n",
       "    <tr>\n",
       "      <th>2</th>\n",
       "      <td>VG</td>\n",
       "      <td>VG</td>\n",
       "    </tr>\n",
       "    <tr>\n",
       "      <th>3</th>\n",
       "      <td>B</td>\n",
       "      <td>B</td>\n",
       "    </tr>\n",
       "    <tr>\n",
       "      <th>4</th>\n",
       "      <td>VG</td>\n",
       "      <td>VG</td>\n",
       "    </tr>\n",
       "    <tr>\n",
       "      <th>5</th>\n",
       "      <td>VG</td>\n",
       "      <td>VG</td>\n",
       "    </tr>\n",
       "    <tr>\n",
       "      <th>6</th>\n",
       "      <td>G</td>\n",
       "      <td>G</td>\n",
       "    </tr>\n",
       "    <tr>\n",
       "      <th>7</th>\n",
       "      <td>VG</td>\n",
       "      <td>VG</td>\n",
       "    </tr>\n",
       "    <tr>\n",
       "      <th>8</th>\n",
       "      <td>VG</td>\n",
       "      <td>VG</td>\n",
       "    </tr>\n",
       "    <tr>\n",
       "      <th>9</th>\n",
       "      <td>M</td>\n",
       "      <td>M</td>\n",
       "    </tr>\n",
       "    <tr>\n",
       "      <th>10</th>\n",
       "      <td>VB</td>\n",
       "      <td>VB</td>\n",
       "    </tr>\n",
       "    <tr>\n",
       "      <th>11</th>\n",
       "      <td>B</td>\n",
       "      <td>VB</td>\n",
       "    </tr>\n",
       "    <tr>\n",
       "      <th>12</th>\n",
       "      <td>VB</td>\n",
       "      <td>VB</td>\n",
       "    </tr>\n",
       "    <tr>\n",
       "      <th>13</th>\n",
       "      <td>B</td>\n",
       "      <td>B</td>\n",
       "    </tr>\n",
       "    <tr>\n",
       "      <th>14</th>\n",
       "      <td>B</td>\n",
       "      <td>B</td>\n",
       "    </tr>\n",
       "    <tr>\n",
       "      <th>15</th>\n",
       "      <td>G</td>\n",
       "      <td>M</td>\n",
       "    </tr>\n",
       "    <tr>\n",
       "      <th>16</th>\n",
       "      <td>M</td>\n",
       "      <td>M</td>\n",
       "    </tr>\n",
       "    <tr>\n",
       "      <th>17</th>\n",
       "      <td>G</td>\n",
       "      <td>M</td>\n",
       "    </tr>\n",
       "    <tr>\n",
       "      <th>18</th>\n",
       "      <td>B</td>\n",
       "      <td>B</td>\n",
       "    </tr>\n",
       "    <tr>\n",
       "      <th>19</th>\n",
       "      <td>VG</td>\n",
       "      <td>VG</td>\n",
       "    </tr>\n",
       "    <tr>\n",
       "      <th>20</th>\n",
       "      <td>G</td>\n",
       "      <td>G</td>\n",
       "    </tr>\n",
       "    <tr>\n",
       "      <th>21</th>\n",
       "      <td>VG</td>\n",
       "      <td>VG</td>\n",
       "    </tr>\n",
       "    <tr>\n",
       "      <th>22</th>\n",
       "      <td>VB</td>\n",
       "      <td>VB</td>\n",
       "    </tr>\n",
       "    <tr>\n",
       "      <th>23</th>\n",
       "      <td>VG</td>\n",
       "      <td>VG</td>\n",
       "    </tr>\n",
       "    <tr>\n",
       "      <th>24</th>\n",
       "      <td>M</td>\n",
       "      <td>M</td>\n",
       "    </tr>\n",
       "    <tr>\n",
       "      <th>25</th>\n",
       "      <td>VG</td>\n",
       "      <td>VG</td>\n",
       "    </tr>\n",
       "    <tr>\n",
       "      <th>26</th>\n",
       "      <td>M</td>\n",
       "      <td>B</td>\n",
       "    </tr>\n",
       "    <tr>\n",
       "      <th>27</th>\n",
       "      <td>G</td>\n",
       "      <td>G</td>\n",
       "    </tr>\n",
       "    <tr>\n",
       "      <th>28</th>\n",
       "      <td>G</td>\n",
       "      <td>G</td>\n",
       "    </tr>\n",
       "    <tr>\n",
       "      <th>29</th>\n",
       "      <td>B</td>\n",
       "      <td>B</td>\n",
       "    </tr>\n",
       "  </tbody>\n",
       "</table>\n",
       "</div>"
      ],
      "text/plain": [
       "   GRNN logreg\n",
       "0     G      G\n",
       "1     M      B\n",
       "2    VG     VG\n",
       "3     B      B\n",
       "4    VG     VG\n",
       "5    VG     VG\n",
       "6     G      G\n",
       "7    VG     VG\n",
       "8    VG     VG\n",
       "9     M      M\n",
       "10   VB     VB\n",
       "11    B     VB\n",
       "12   VB     VB\n",
       "13    B      B\n",
       "14    B      B\n",
       "15    G      M\n",
       "16    M      M\n",
       "17    G      M\n",
       "18    B      B\n",
       "19   VG     VG\n",
       "20    G      G\n",
       "21   VG     VG\n",
       "22   VB     VB\n",
       "23   VG     VG\n",
       "24    M      M\n",
       "25   VG     VG\n",
       "26    M      B\n",
       "27    G      G\n",
       "28    G      G\n",
       "29    B      B"
      ]
     },
     "execution_count": 28,
     "metadata": {},
     "output_type": "execute_result"
    }
   ],
   "source": [
    "y_t['lr'] = y_lr.argmax(axis=1)\n",
    "y_t['logreg'] = y_t['lr'].apply(from_class_to_label)\n",
    "del y_t['lr']\n",
    "y_t"
   ]
  },
  {
   "cell_type": "code",
   "execution_count": 29,
   "metadata": {},
   "outputs": [
    {
     "data": {
      "image/png": "[encoded data removed]",
      "text/plain": [
       "<Figure size 432x288 with 1 Axes>"
      ]
     },
     "metadata": {},
     "output_type": "display_data"
    }
   ],
   "source": [
    "pred = lreg.predict(X_test)\n",
    "labels = ['VG', 'G', 'M', 'B', 'VB']\n",
    "# confusion matrix\n",
    "scores_image = heatmap(metrics.confusion_matrix(y_test, pred), xlabel='Predicted label', \n",
    "                       ylabel='True label', xticklabels=labels, yticklabels=labels, \n",
    "                       cmap=plt.cm.gray_r, fmt=\"%d\")\n",
    "plt.title(\"Confusion matrix\")\n",
    "plt.gca().invert_yaxis()\n",
    "plt.show()"
   ]
  },
  {
   "cell_type": "code",
   "execution_count": 30,
   "metadata": {},
   "outputs": [
    {
     "name": "stdout",
     "output_type": "stream",
     "text": [
      "              precision    recall  f1-score   support\n",
      "\n",
      "          VG       1.00      1.00      1.00         9\n",
      "           G       1.00      0.71      0.83         7\n",
      "           M       0.60      0.60      0.60         5\n",
      "           B       0.71      0.83      0.77         6\n",
      "          VB       0.75      1.00      0.86         3\n",
      "\n",
      "   micro avg       0.83      0.83      0.83        30\n",
      "   macro avg       0.81      0.83      0.81        30\n",
      "weighted avg       0.85      0.83      0.83        30\n",
      "\n"
     ]
    }
   ],
   "source": [
    "# classification report\n",
    "print(metrics.classification_report(y_test, pred, target_names=labels))"
   ]
  },
  {
   "cell_type": "code",
   "execution_count": 31,
   "metadata": {},
   "outputs": [
    {
     "name": "stdout",
     "output_type": "stream",
     "text": [
      "Best value: C = 10\n"
     ]
    }
   ],
   "source": [
    "# Grid-search with cross validation for optimal model hyper-parameters\n",
    "parameters = {'C':[0.01, 0.1, 1., 10., 50., 100.], \n",
    "              'multi_class':['multinomial'], \n",
    "              'penalty':['l1', 'l2'], 'solver':['newton-cg']}\n",
    "lreg = GridSearchCV(estimator=LogisticRegression(), param_grid=parameters,\n",
    "                    cv=2, scoring='neg_log_loss', refit=True, n_jobs=1)\n",
    "lreg.fit(X_train, y_train)\n",
    "# Best value of hyper-parameter \"C\"\n",
    "best_c = lreg.best_params_['C']\n",
    "print('Best value: C = {:g}'.format(best_c))"
   ]
  },
  {
   "cell_type": "code",
   "execution_count": 32,
   "metadata": {},
   "outputs": [
    {
     "name": "stdout",
     "output_type": "stream",
     "text": [
      "Score using 3-fold CV: 0.850827 +/- 0.0173727\n"
     ]
    }
   ],
   "source": [
    "# Average classification accuracy with cross validation\n",
    "#lreg = LogisticRegression(C=best_c, solver='newton-cg', multi_class='multinomial')\n",
    "scores = cross_val_score(LogisticRegression(C=best_c, multi_class='multinomial', solver='newton-cg'), \n",
    "                         X_train, y_train, cv=3)  # it doesn't return a model\n",
    "print('Score using 3-fold CV: {:g} +/- {:g}'.format(np.mean(scores), np.std(scores)))"
   ]
  },
  {
   "cell_type": "code",
   "execution_count": 33,
   "metadata": {},
   "outputs": [],
   "source": [
    "y_lr = lreg.predict_proba(X_test)\n",
    "y_t['lr'] = y_lr.argmax(axis=1)\n",
    "y_t['logreg'] = y_t['lr'].apply(from_class_to_label)\n",
    "del y_t['lr']"
   ]
  },
  {
   "cell_type": "markdown",
   "metadata": {},
   "source": [
    "#### Bayesian optimisation for model hyper-parameters selection"
   ]
  },
  {
   "cell_type": "code",
   "execution_count": 34,
   "metadata": {},
   "outputs": [],
   "source": [
    "try:\n",
    "    # Model hyper-parameters selection using Bayesian Optimisation\n",
    "    from bayes_opt import BayesianOptimization\n",
    "    from bayes_opt.util import Colours\n",
    "    bayes_optimization = 1\n",
    "except ImportError:\n",
    "    bayes_optimization = 0\n",
    "    print('Install Bayesian Optimization package before executing the next cell.')"
   ]
  },
  {
   "cell_type": "code",
   "execution_count": 35,
   "metadata": {},
   "outputs": [
    {
     "name": "stdout",
     "output_type": "stream",
     "text": [
      "\u001b[92m--- Optimizing LogisticRegression ---\u001b[0m\n",
      "|   iter    |  target   |   expC    |\n",
      "-------------------------------------\n",
      "| \u001b[0m 1       \u001b[0m | \u001b[0m-0.7988  \u001b[0m | \u001b[0m 1.985   \u001b[0m |\n",
      "| \u001b[95m 2       \u001b[0m | \u001b[95m-0.7079  \u001b[0m | \u001b[95m 1.788   \u001b[0m |\n",
      "| \u001b[0m 3       \u001b[0m | \u001b[0m-1.318   \u001b[0m | \u001b[0m-1.782   \u001b[0m |\n",
      "| \u001b[95m 4       \u001b[0m | \u001b[95m-0.6804  \u001b[0m | \u001b[95m 1.717   \u001b[0m |\n",
      "| \u001b[95m 5       \u001b[0m | \u001b[95m-0.5605  \u001b[0m | \u001b[95m 0.4853  \u001b[0m |\n",
      "| \u001b[95m 6       \u001b[0m | \u001b[95m-0.535   \u001b[0m | \u001b[95m 0.9333  \u001b[0m |\n",
      "| \u001b[0m 7       \u001b[0m | \u001b[0m-0.5358  \u001b[0m | \u001b[0m 0.7791  \u001b[0m |\n",
      "| \u001b[95m 8       \u001b[0m | \u001b[95m-0.5342  \u001b[0m | \u001b[95m 0.8795  \u001b[0m |\n",
      "| \u001b[95m 9       \u001b[0m | \u001b[95m-0.5342  \u001b[0m | \u001b[95m 0.873   \u001b[0m |\n",
      "| \u001b[0m 10      \u001b[0m | \u001b[0m-0.5346  \u001b[0m | \u001b[0m 0.917   \u001b[0m |\n",
      "| \u001b[0m 11      \u001b[0m | \u001b[0m-0.5343  \u001b[0m | \u001b[0m 0.8473  \u001b[0m |\n",
      "| \u001b[0m 12      \u001b[0m | \u001b[0m-0.5343  \u001b[0m | \u001b[0m 0.8543  \u001b[0m |\n",
      "| \u001b[0m 13      \u001b[0m | \u001b[0m-0.5346  \u001b[0m | \u001b[0m 0.9155  \u001b[0m |\n",
      "| \u001b[0m 14      \u001b[0m | \u001b[0m-0.5343  \u001b[0m | \u001b[0m 0.8498  \u001b[0m |\n",
      "| \u001b[0m 15      \u001b[0m | \u001b[0m-0.5343  \u001b[0m | \u001b[0m 0.8536  \u001b[0m |\n",
      "=====================================\n",
      "{'params': {'expC': 0.8729754029834189}, 'target': -0.5342468108710814}\n",
      "Optimal value of C: 7.46\n"
     ]
    }
   ],
   "source": [
    "if bayes_optimization != 0:\n",
    "    # Bayesian Optimization with cross-validation for optimal model hyper-parameters selection\n",
    "    def optimize_logreg(data, targets):\n",
    "        \"\"\"Apply Bayesian Optimization to LogisticRegression hyper-parameters.\"\"\"\n",
    "        def logreg_cv(C, data, targets):\n",
    "            \"\"\"Logistic regression with cross validation.\"\"\"\n",
    "            estimator = LogisticRegression(C=C, multi_class='multinomial', solver='newton-cg')\n",
    "            cval = cross_val_score(estimator, data, targets, scoring='neg_log_loss', cv=2)\n",
    "            return cval.mean()\n",
    "\n",
    "        def logreg_crossval(expC):\n",
    "            \"\"\"Wrapper of LogisticRegression cross validation.\n",
    "            Notice how we transform between regular and log scale. While this\n",
    "            is not technically necessary, it greatly improves the performance\n",
    "            of the optimizer.\n",
    "            \"\"\"\n",
    "            C = 10 ** expC\n",
    "            return logreg_cv(C=C, data=data, targets=targets)\n",
    "\n",
    "        optimizer = BayesianOptimization(f=logreg_crossval, pbounds={'expC': (-3, 2)}, verbose=2)\n",
    "        optimizer.maximize(n_iter=10)\n",
    "        return optimizer.max  # dictionary \n",
    "\n",
    "    print(Colours.green(\"--- Optimizing LogisticRegression ---\"))\n",
    "    optimal_params = optimize_logreg(X_train, y_train)\n",
    "    print(optimal_params)\n",
    "    print('Optimal value of C: {:.2f}'.format(10.**optimal_params['params']['expC']))"
   ]
  },
  {
   "cell_type": "markdown",
   "metadata": {},
   "source": [
    "NOTE: Bayesian optimisation provides a better and faster way of finding optimal model hyper-parameters!"
   ]
  },
  {
   "cell_type": "markdown",
   "metadata": {},
   "source": [
    "### ExtraTreesClassifier"
   ]
  },
  {
   "cell_type": "code",
   "execution_count": 36,
   "metadata": {},
   "outputs": [
    {
     "data": {
      "text/plain": [
       "GridSearchCV(cv=3, error_score='raise-deprecating',\n",
       "       estimator=ExtraTreesClassifier(bootstrap=False, class_weight=None, criterion='gini',\n",
       "           max_depth=None, max_features='auto', max_leaf_nodes=None,\n",
       "           min_impurity_decrease=0.0, min_impurity_split=None,\n",
       "           min_samples_leaf=1, min_samples_split=2,\n",
       "           min_weight_fraction_leaf=0.0, n_estimators='warn', n_jobs=None,\n",
       "           oob_score=False, random_state=None, verbose=0, warm_start=False),\n",
       "       fit_params=None, iid='warn', n_jobs=-1,\n",
       "       param_grid={'n_estimators': [5, 10, 15, 20], 'criterion': ['gini', 'entropy'], 'max_depth': [2, 5, None]},\n",
       "       pre_dispatch='2*n_jobs', refit=True, return_train_score='warn',\n",
       "       scoring='neg_log_loss', verbose=0)"
      ]
     },
     "execution_count": 36,
     "metadata": {},
     "output_type": "execute_result"
    }
   ],
   "source": [
    "# ExtraTreesClassifier (ensemble learner) with grid search \n",
    "# and cross-validation for hyper-parameters optimisation\n",
    "parameters = {'n_estimators':[5, 10, 15, 20], \n",
    "              'criterion':['gini', 'entropy'], \n",
    "              'max_depth':[2, 5, None]}\n",
    "trees = GridSearchCV(estimator=ExtraTreesClassifier(), param_grid=parameters, \n",
    "                     cv=3, scoring='neg_log_loss', refit=True, n_jobs=-1) \n",
    "trees.fit(X_train, y_train)"
   ]
  },
  {
   "cell_type": "code",
   "execution_count": 37,
   "metadata": {},
   "outputs": [
    {
     "name": "stdout",
     "output_type": "stream",
     "text": [
      "Best parameters: {'n_estimators': 15, 'criterion': 'gini', 'max_depth': None}\n"
     ]
    }
   ],
   "source": [
    "# Best model parameters\n",
    "best_parameters = trees.best_params_\n",
    "print(\"Best parameters: {}\".format(trees.best_params_))"
   ]
  },
  {
   "cell_type": "code",
   "execution_count": 38,
   "metadata": {},
   "outputs": [
    {
     "name": "stdout",
     "output_type": "stream",
     "text": [
      "Average score using 3-fold CV: 0.942297 +/- 0.0466637\n"
     ]
    }
   ],
   "source": [
    "scores = cross_val_score(ExtraTreesClassifier(**best_parameters), X_train, y_train, cv=3)\n",
    "print('Average score using 3-fold CV: {:g} +/- {:g}'.format(np.mean(scores), np.std(scores)))"
   ]
  },
  {
   "cell_type": "code",
   "execution_count": 39,
   "metadata": {},
   "outputs": [],
   "source": [
    "y_trees = trees.predict_proba(X_test)\n",
    "y_t['t'] = y_trees.argmax(axis=1)\n",
    "y_t['trees'] = y_t['t'].apply(from_class_to_label)\n",
    "del y_t['t']"
   ]
  },
  {
   "cell_type": "markdown",
   "metadata": {},
   "source": [
    "### KNeighborsClassifier"
   ]
  },
  {
   "cell_type": "code",
   "execution_count": 40,
   "metadata": {},
   "outputs": [
    {
     "data": {
      "text/plain": [
       "GridSearchCV(cv=3, error_score='raise-deprecating',\n",
       "       estimator=KNeighborsClassifier(algorithm='auto', leaf_size=30, metric='minkowski',\n",
       "           metric_params=None, n_jobs=None, n_neighbors=5, p=2,\n",
       "           weights='uniform'),\n",
       "       fit_params=None, iid='warn', n_jobs=-1,\n",
       "       param_grid={'n_neighbors': [3, 5, 8, 12]}, pre_dispatch='2*n_jobs',\n",
       "       refit=True, return_train_score='warn', scoring='neg_log_loss',\n",
       "       verbose=0)"
      ]
     },
     "execution_count": 40,
     "metadata": {},
     "output_type": "execute_result"
    }
   ],
   "source": [
    "parameters = {'n_neighbors':[3, 5, 8, 12]}\n",
    "# grid search and cross-validation for hyper-parameters optimisation\n",
    "knn = GridSearchCV(estimator=KNeighborsClassifier(), param_grid=parameters, \n",
    "                      cv=3, scoring='neg_log_loss', refit=True, n_jobs=-1) \n",
    "knn.fit(X_train, y_train)"
   ]
  },
  {
   "cell_type": "code",
   "execution_count": 41,
   "metadata": {},
   "outputs": [
    {
     "name": "stdout",
     "output_type": "stream",
     "text": [
      "Best parameters: {'n_neighbors': 12}\n"
     ]
    }
   ],
   "source": [
    "best_parameters = knn.best_params_\n",
    "print(\"Best parameters: {}\".format(knn.best_params_))"
   ]
  },
  {
   "cell_type": "code",
   "execution_count": 42,
   "metadata": {},
   "outputs": [
    {
     "name": "stdout",
     "output_type": "stream",
     "text": [
      "Average score using 3-fold CV: 0.500334 +/- 0.0210471\n"
     ]
    }
   ],
   "source": [
    "scores = cross_val_score(KNeighborsClassifier(**best_parameters), X_train, y_train, cv=3)\n",
    "print('Average score using 3-fold CV: {:g} +/- {:g}'.format(np.mean(scores), np.std(scores)))"
   ]
  },
  {
   "cell_type": "code",
   "execution_count": 43,
   "metadata": {},
   "outputs": [],
   "source": [
    "y_knn = knn.predict_proba(X_test)\n",
    "y_t['k'] = y_knn.argmax(axis=1)\n",
    "y_t['knn'] = y_t['k'].apply(from_class_to_label)\n",
    "del y_t['k']"
   ]
  },
  {
   "cell_type": "markdown",
   "metadata": {},
   "source": [
    "### RandomForest multiclass classifier (ensemble learner)"
   ]
  },
  {
   "cell_type": "code",
   "execution_count": 44,
   "metadata": {},
   "outputs": [
    {
     "data": {
      "text/plain": [
       "GridSearchCV(cv=3, error_score='raise-deprecating',\n",
       "       estimator=RandomForestClassifier(bootstrap=True, class_weight=None, criterion='gini',\n",
       "            max_depth=None, max_features='auto', max_leaf_nodes=None,\n",
       "            min_impurity_decrease=0.0, min_impurity_split=None,\n",
       "            min_samples_leaf=1, min_samples_split=2,\n",
       "            min_weight_fraction_leaf=0.0, n_estimators='warn', n_jobs=None,\n",
       "            oob_score=False, random_state=None, verbose=0,\n",
       "            warm_start=False),\n",
       "       fit_params=None, iid='warn', n_jobs=-1,\n",
       "       param_grid={'n_estimators': [10, 15, 20], 'max_features': [4, 'auto'], 'criterion': ['gini', 'entropy'], 'max_depth': [2, None]},\n",
       "       pre_dispatch='2*n_jobs', refit=True, return_train_score='warn',\n",
       "       scoring='neg_log_loss', verbose=0)"
      ]
     },
     "execution_count": 44,
     "metadata": {},
     "output_type": "execute_result"
    }
   ],
   "source": [
    "# RandomForestClassifier (ensemble learner for the multiclass classification)\n",
    "parameters = {'n_estimators':[10, 15, 20], \n",
    "              'criterion':['gini', 'entropy'],\n",
    "              'max_features':[4, 'auto'],\n",
    "              'max_depth':[2, None]}\n",
    "# grid search and cross-validation for hyper-parameters optimisation\n",
    "forest = GridSearchCV(estimator=RandomForestClassifier(), param_grid=parameters, \n",
    "                      cv=3, scoring='neg_log_loss', refit=True, n_jobs=-1) \n",
    "forest.fit(X_train, y_train)"
   ]
  },
  {
   "cell_type": "code",
   "execution_count": 45,
   "metadata": {},
   "outputs": [
    {
     "name": "stdout",
     "output_type": "stream",
     "text": [
      "Best parameters: {'max_features': 4, 'n_estimators': 15, 'criterion': 'entropy', 'max_depth': None}\n"
     ]
    }
   ],
   "source": [
    "best_parameters = forest.best_params_\n",
    "print(\"Best parameters: {}\".format(forest.best_params_))"
   ]
  },
  {
   "cell_type": "code",
   "execution_count": 46,
   "metadata": {},
   "outputs": [
    {
     "name": "stdout",
     "output_type": "stream",
     "text": [
      "Average score using 3-fold CV: 0.899286 +/- 0.0302265\n"
     ]
    }
   ],
   "source": [
    "scores = cross_val_score(RandomForestClassifier(**best_parameters), X_train, y_train, cv=3)\n",
    "print('Average score using 3-fold CV: {:g} +/- {:g}'.format(np.mean(scores), np.std(scores)))"
   ]
  },
  {
   "cell_type": "code",
   "execution_count": 47,
   "metadata": {},
   "outputs": [],
   "source": [
    "y_forest = forest.predict_proba(X_test)\n",
    "y_t['f'] = y_forest.argmax(axis=1)\n",
    "y_t['forest'] = y_t['f'].apply(from_class_to_label)\n",
    "del y_t['f']"
   ]
  },
  {
   "cell_type": "markdown",
   "metadata": {},
   "source": [
    "### GradientBoosting multiclass classifier with feature importance analysis"
   ]
  },
  {
   "cell_type": "code",
   "execution_count": 48,
   "metadata": {},
   "outputs": [],
   "source": [
    "# Train & evaluate model performance\n",
    "def train_and_evaluate(model, X, y, ns=3):\n",
    "    # k-fold cross validation iterator \n",
    "    cv = KFold(n_splits=ns, shuffle=True)\n",
    "    scores = cross_val_score(model, X, y, cv=cv, scoring='accuracy')  # scoring method is accuracy!\n",
    "    print('Average score using {:d}-fold CV: {:g} +/- {:g}'.format(ns, np.mean(scores), np.std(scores)))"
   ]
  },
  {
   "cell_type": "code",
   "execution_count": 49,
   "metadata": {},
   "outputs": [
    {
     "name": "stdout",
     "output_type": "stream",
     "text": [
      "Average score using 5-fold CV: 0.88 +/- 0.04\n"
     ]
    },
    {
     "data": {
      "text/plain": [
       "GradientBoostingClassifier(criterion='friedman_mse', init=None,\n",
       "              learning_rate=0.1, loss='deviance', max_depth=3,\n",
       "              max_features=None, max_leaf_nodes=None,\n",
       "              min_impurity_decrease=0.0, min_impurity_split=None,\n",
       "              min_samples_leaf=1, min_samples_split=2,\n",
       "              min_weight_fraction_leaf=0.0, n_estimators=100,\n",
       "              n_iter_no_change=None, presort='auto', random_state=None,\n",
       "              subsample=1.0, tol=0.0001, validation_fraction=0.1,\n",
       "              verbose=0, warm_start=False)"
      ]
     },
     "execution_count": 49,
     "metadata": {},
     "output_type": "execute_result"
    }
   ],
   "source": [
    "# Gradient Boosting Classifier\n",
    "clf_gb = GradientBoostingClassifier()\n",
    "train_and_evaluate(clf_gb, X_train, y_train, 5)\n",
    "clf_gb.fit(X_train, y_train)"
   ]
  },
  {
   "cell_type": "code",
   "execution_count": 50,
   "metadata": {},
   "outputs": [
    {
     "data": {
      "image/png": "[encoded data removed]",
      "text/plain": [
       "<Figure size 432x288 with 1 Axes>"
      ]
     },
     "metadata": {},
     "output_type": "display_data"
    }
   ],
   "source": [
    "# Feature importance\n",
    "feature_importance = clf_gb.feature_importances_\n",
    "feature_importance = 100.0 * (feature_importance / feature_importance.max())\n",
    "sorted_idx = np.argsort(feature_importance)\n",
    "pos = np.arange(sorted_idx.shape[0]) + .5\n",
    "# Plot relative feature importance\n",
    "fig, ax = plt.subplots(figsize=(6,4))\n",
    "ax.barh(pos, feature_importance[sorted_idx], align='center', color='magenta', alpha=0.6)\n",
    "plt.yticks(pos, data.columns[sorted_idx])\n",
    "ax.set_xlabel('Feature Relative Importance')\n",
    "plt.tight_layout()\n",
    "plt.show()"
   ]
  },
  {
   "cell_type": "code",
   "execution_count": 51,
   "metadata": {},
   "outputs": [],
   "source": [
    "# Predict on new data\n",
    "y_gb = clf_gb.predict_proba(X_test)\n",
    "y_t['gb'] = y_gb.argmax(axis=1)\n",
    "y_t['boost'] = y_t['gb'].apply(from_class_to_label)\n",
    "del y_t['gb']"
   ]
  },
  {
   "cell_type": "markdown",
   "metadata": {},
   "source": [
    "### Artificial Neural Network for Ordinal Probit Regression"
   ]
  },
  {
   "cell_type": "code",
   "execution_count": 52,
   "metadata": {},
   "outputs": [],
   "source": [
    "from tensorflow.distributions import Normal as TFNormal\n",
    "\n",
    "# Probit activation function\n",
    "def probit(x):\n",
    "    normal = TFNormal(loc=0., scale=1.)\n",
    "    return normal.cdf(x)"
   ]
  },
  {
   "cell_type": "code",
   "execution_count": 53,
   "metadata": {},
   "outputs": [],
   "source": [
    "# Encode 'targets' to categorical variables\n",
    "y_train_nn = keras.utils.np_utils.to_categorical(y_train)\n",
    "y_test_nn = keras.utils.np_utils.to_categorical(y_test)"
   ]
  },
  {
   "cell_type": "code",
   "execution_count": 54,
   "metadata": {},
   "outputs": [],
   "source": [
    "# Keras: Feed-forward artificial neural network\n",
    "model = keras.models.Sequential()\n",
    "# Input layer\n",
    "model.add(keras.layers.Dense(units=64, activation='relu', input_dim=X_train.shape[1]))\n",
    "model.add(keras.layers.Dropout(0.5))  # regularization layer\n",
    "# hidden layer\n",
    "model.add(keras.layers.Dense(units=64, activation='tanh'))\n",
    "model.add(keras.layers.Dropout(0.5))\n",
    "# hidden layer\n",
    "model.add(keras.layers.Dense(units=32, activation='tanh'))\n",
    "model.add(keras.layers.Dropout(0.25))\n",
    "# *** Add additional hidden layers here ***\n",
    "# Output layer\n",
    "# Following line defines Ordinal Probit Regression (ordered categories)\n",
    "model.add(keras.layers.Dense(units=5, activation=probit))\n",
    "# Following line defines Softmax Regression (un-ordered categories)\n",
    "#model.add(keras.layers.Dense(units=5, activation='softmax'))\n",
    "# Optimizer\n",
    "adam = keras.optimizers.Adam()\n",
    "# Compile network\n",
    "model.compile(loss='categorical_crossentropy', optimizer=adam, metrics=['accuracy'])"
   ]
  },
  {
   "cell_type": "code",
   "execution_count": 55,
   "metadata": {},
   "outputs": [],
   "source": [
    "BATCH = 32     # 'batch_size' argument\n",
    "EPOCHS = 200   # 'epochs' argument"
   ]
  },
  {
   "cell_type": "code",
   "execution_count": 56,
   "metadata": {},
   "outputs": [
    {
     "name": "stdout",
     "output_type": "stream",
     "text": [
      "Log-loss: 0.440857, Accuracy: 80.00 %\n"
     ]
    }
   ],
   "source": [
    "# Fit model on train data\n",
    "history = model.fit(X_train, y_train_nn, epochs=EPOCHS, batch_size=BATCH, \n",
    "                    validation_data=(X_test, y_test_nn), shuffle=True, verbose=0)\n",
    "# Score metrics (evaluate model on test data)\n",
    "score = model.evaluate(X_test, y_test_nn, batch_size=BATCH, verbose=0)\n",
    "print('Log-loss: {:g}, Accuracy: {:.2f} %'.format(score[0], score[1]*100))"
   ]
  },
  {
   "cell_type": "code",
   "execution_count": 57,
   "metadata": {},
   "outputs": [
    {
     "data": {
      "image/png": "[encoded data removed]",
      "text/plain": [
       "<Figure size 432x324 with 1 Axes>"
      ]
     },
     "metadata": {},
     "output_type": "display_data"
    }
   ],
   "source": [
    "hist = history.history\n",
    "acc = hist['acc']\n",
    "acc_val = hist['val_acc']\n",
    "fig, ax = plt.subplots(figsize=(6,4.5))\n",
    "ax.plot(acc, ls='-', lw=2, c='seagreen', label='test accuracy')\n",
    "ax.plot(acc_val, ls='-', lw=2, c='royalblue', label='validation accuracy')\n",
    "ax.grid()\n",
    "ax.legend(loc='best', fontsize=12)\n",
    "ax.set_xlabel('Epochs')\n",
    "ax.set_ylabel('Accuracy')\n",
    "plt.tight_layout()\n",
    "plt.show()"
   ]
  },
  {
   "cell_type": "code",
   "execution_count": 58,
   "metadata": {},
   "outputs": [],
   "source": [
    "# Predict class probability on test data\n",
    "y_pred_proba_nn = model.predict_proba(X_test, batch_size=BATCH, verbose=0)\n",
    "y_t['k'] = y_pred_proba_nn.argmax(axis=1)\n",
    "y_t['keras'] = y_t['k'].apply(from_class_to_label)\n",
    "del y_t['k']"
   ]
  },
  {
   "cell_type": "markdown",
   "metadata": {},
   "source": [
    "## Ensemble models using voting principle"
   ]
  },
  {
   "cell_type": "markdown",
   "metadata": {},
   "source": [
    "<p style=\"background-color:honeydew;padding:10px;border:2px solid mediumseagreen\"><b>Note:</b> Ensembling consists of pooling together the predictions of a set of different models, to produce better predictions. The key to making ensembling work is the diversity of the set of classifiers. Diversity is what makes ensembling work. For this reason, one should ensemble models that are as good as possible while being <b>as different as possible</b>. This typically means using very different network architectures or even different brands of machine-learning approaches. This is exactly what has been proposed here.</p>"
   ]
  },
  {
   "cell_type": "markdown",
   "metadata": {},
   "source": [
    "### Hard voting"
   ]
  },
  {
   "cell_type": "code",
   "execution_count": 59,
   "metadata": {},
   "outputs": [],
   "source": [
    "clf = VotingClassifier(estimators=[('logreg', lreg),     # LogisticRegression\n",
    "                                   ('KNN', knn),         # KNeighbors\n",
    "                                   ('trees', trees),     # ExtraTrees\n",
    "                                   ('forest', forest)],  # RandomForrest \n",
    "                       weights=[1, 1, 3, 2],  # classifier relative weights\n",
    "                       voting='hard')\n",
    "clf = clf.fit(X_train, y_train)"
   ]
  },
  {
   "cell_type": "code",
   "execution_count": 60,
   "metadata": {},
   "outputs": [],
   "source": [
    "y_t['clf'] = clf.predict(X_test)\n",
    "y_t['hard_vote'] = y_t['clf'].apply(from_class_to_label)\n",
    "del y_t['clf']"
   ]
  },
  {
   "cell_type": "markdown",
   "metadata": {},
   "source": [
    "### Soft voting"
   ]
  },
  {
   "cell_type": "code",
   "execution_count": 61,
   "metadata": {},
   "outputs": [],
   "source": [
    "clf = VotingClassifier(estimators=[('logreg', lreg),    # LogisticRegression\n",
    "                                   ('KNN', knn),        # KNeighbors\n",
    "                                   ('trees', trees)],   # RandomForrest \n",
    "                       weights=[1, 1, 2],  # classifier relative weights\n",
    "                       voting='soft')\n",
    "clf = clf.fit(X_train, y_train)"
   ]
  },
  {
   "cell_type": "code",
   "execution_count": 62,
   "metadata": {},
   "outputs": [],
   "source": [
    "y_clf = clf.predict_proba(X_test)\n",
    "y_t['clf'] = y_clf.argmax(axis=1)\n",
    "y_t['soft_vote'] = y_t['clf'].apply(from_class_to_label)\n",
    "del y_t['clf']"
   ]
  },
  {
   "cell_type": "code",
   "execution_count": 63,
   "metadata": {},
   "outputs": [
    {
     "name": "stdout",
     "output_type": "stream",
     "text": [
      "Average score using 3-fold CV: 0.912885 +/- 0.0630358\n"
     ]
    }
   ],
   "source": [
    "scores = cross_val_score(clf, X_train, y_train, cv=3)\n",
    "print('Average score using 3-fold CV: {:g} +/- {:g}'.format(np.mean(scores), np.std(scores)))"
   ]
  },
  {
   "cell_type": "markdown",
   "metadata": {},
   "source": [
    "#### Predictions using individual classifiers and ensembles"
   ]
  },
  {
   "cell_type": "code",
   "execution_count": 64,
   "metadata": {},
   "outputs": [
    {
     "data": {
      "text/html": [
       "<div>\n",
       "<style scoped>\n",
       "    .dataframe tbody tr th:only-of-type {\n",
       "        vertical-align: middle;\n",
       "    }\n",
       "\n",
       "    .dataframe tbody tr th {\n",
       "        vertical-align: top;\n",
       "    }\n",
       "\n",
       "    .dataframe thead th {\n",
       "        text-align: right;\n",
       "    }\n",
       "</style>\n",
       "<table border=\"1\" class=\"dataframe\">\n",
       "  <thead>\n",
       "    <tr style=\"text-align: right;\">\n",
       "      <th></th>\n",
       "      <th>GRNN</th>\n",
       "      <th>logreg</th>\n",
       "      <th>trees</th>\n",
       "      <th>knn</th>\n",
       "      <th>forest</th>\n",
       "      <th>boost</th>\n",
       "      <th>keras</th>\n",
       "      <th>hard_vote</th>\n",
       "      <th>soft_vote</th>\n",
       "    </tr>\n",
       "  </thead>\n",
       "  <tbody>\n",
       "    <tr>\n",
       "      <th>0</th>\n",
       "      <td>G</td>\n",
       "      <td>G</td>\n",
       "      <td>G</td>\n",
       "      <td>G</td>\n",
       "      <td>G</td>\n",
       "      <td>G</td>\n",
       "      <td>G</td>\n",
       "      <td>G</td>\n",
       "      <td>G</td>\n",
       "    </tr>\n",
       "    <tr>\n",
       "      <th>1</th>\n",
       "      <td>M</td>\n",
       "      <td>B</td>\n",
       "      <td>M</td>\n",
       "      <td>M</td>\n",
       "      <td>M</td>\n",
       "      <td>M</td>\n",
       "      <td>B</td>\n",
       "      <td>M</td>\n",
       "      <td>M</td>\n",
       "    </tr>\n",
       "    <tr>\n",
       "      <th>2</th>\n",
       "      <td>VG</td>\n",
       "      <td>VG</td>\n",
       "      <td>VG</td>\n",
       "      <td>VG</td>\n",
       "      <td>G</td>\n",
       "      <td>G</td>\n",
       "      <td>VG</td>\n",
       "      <td>VG</td>\n",
       "      <td>VG</td>\n",
       "    </tr>\n",
       "    <tr>\n",
       "      <th>3</th>\n",
       "      <td>B</td>\n",
       "      <td>B</td>\n",
       "      <td>B</td>\n",
       "      <td>B</td>\n",
       "      <td>B</td>\n",
       "      <td>B</td>\n",
       "      <td>B</td>\n",
       "      <td>B</td>\n",
       "      <td>B</td>\n",
       "    </tr>\n",
       "    <tr>\n",
       "      <th>4</th>\n",
       "      <td>VG</td>\n",
       "      <td>VG</td>\n",
       "      <td>VG</td>\n",
       "      <td>VG</td>\n",
       "      <td>VG</td>\n",
       "      <td>VG</td>\n",
       "      <td>VG</td>\n",
       "      <td>VG</td>\n",
       "      <td>VG</td>\n",
       "    </tr>\n",
       "    <tr>\n",
       "      <th>5</th>\n",
       "      <td>VG</td>\n",
       "      <td>VG</td>\n",
       "      <td>VG</td>\n",
       "      <td>VG</td>\n",
       "      <td>VG</td>\n",
       "      <td>VG</td>\n",
       "      <td>VG</td>\n",
       "      <td>VG</td>\n",
       "      <td>VG</td>\n",
       "    </tr>\n",
       "    <tr>\n",
       "      <th>6</th>\n",
       "      <td>G</td>\n",
       "      <td>G</td>\n",
       "      <td>G</td>\n",
       "      <td>VG</td>\n",
       "      <td>G</td>\n",
       "      <td>G</td>\n",
       "      <td>G</td>\n",
       "      <td>G</td>\n",
       "      <td>G</td>\n",
       "    </tr>\n",
       "    <tr>\n",
       "      <th>7</th>\n",
       "      <td>VG</td>\n",
       "      <td>VG</td>\n",
       "      <td>VG</td>\n",
       "      <td>VG</td>\n",
       "      <td>VG</td>\n",
       "      <td>VG</td>\n",
       "      <td>VG</td>\n",
       "      <td>VG</td>\n",
       "      <td>VG</td>\n",
       "    </tr>\n",
       "    <tr>\n",
       "      <th>8</th>\n",
       "      <td>VG</td>\n",
       "      <td>VG</td>\n",
       "      <td>VG</td>\n",
       "      <td>VG</td>\n",
       "      <td>VG</td>\n",
       "      <td>VG</td>\n",
       "      <td>VG</td>\n",
       "      <td>VG</td>\n",
       "      <td>VG</td>\n",
       "    </tr>\n",
       "    <tr>\n",
       "      <th>9</th>\n",
       "      <td>M</td>\n",
       "      <td>M</td>\n",
       "      <td>M</td>\n",
       "      <td>M</td>\n",
       "      <td>M</td>\n",
       "      <td>M</td>\n",
       "      <td>M</td>\n",
       "      <td>M</td>\n",
       "      <td>M</td>\n",
       "    </tr>\n",
       "    <tr>\n",
       "      <th>10</th>\n",
       "      <td>VB</td>\n",
       "      <td>VB</td>\n",
       "      <td>VB</td>\n",
       "      <td>VB</td>\n",
       "      <td>VB</td>\n",
       "      <td>VB</td>\n",
       "      <td>VB</td>\n",
       "      <td>VB</td>\n",
       "      <td>VB</td>\n",
       "    </tr>\n",
       "    <tr>\n",
       "      <th>11</th>\n",
       "      <td>B</td>\n",
       "      <td>B</td>\n",
       "      <td>B</td>\n",
       "      <td>VB</td>\n",
       "      <td>M</td>\n",
       "      <td>M</td>\n",
       "      <td>VB</td>\n",
       "      <td>B</td>\n",
       "      <td>B</td>\n",
       "    </tr>\n",
       "    <tr>\n",
       "      <th>12</th>\n",
       "      <td>VB</td>\n",
       "      <td>VB</td>\n",
       "      <td>VB</td>\n",
       "      <td>VB</td>\n",
       "      <td>VB</td>\n",
       "      <td>VB</td>\n",
       "      <td>VB</td>\n",
       "      <td>VB</td>\n",
       "      <td>VB</td>\n",
       "    </tr>\n",
       "    <tr>\n",
       "      <th>13</th>\n",
       "      <td>B</td>\n",
       "      <td>B</td>\n",
       "      <td>M</td>\n",
       "      <td>B</td>\n",
       "      <td>M</td>\n",
       "      <td>M</td>\n",
       "      <td>M</td>\n",
       "      <td>M</td>\n",
       "      <td>M</td>\n",
       "    </tr>\n",
       "    <tr>\n",
       "      <th>14</th>\n",
       "      <td>B</td>\n",
       "      <td>B</td>\n",
       "      <td>B</td>\n",
       "      <td>B</td>\n",
       "      <td>B</td>\n",
       "      <td>B</td>\n",
       "      <td>B</td>\n",
       "      <td>B</td>\n",
       "      <td>B</td>\n",
       "    </tr>\n",
       "    <tr>\n",
       "      <th>15</th>\n",
       "      <td>G</td>\n",
       "      <td>M</td>\n",
       "      <td>G</td>\n",
       "      <td>M</td>\n",
       "      <td>M</td>\n",
       "      <td>M</td>\n",
       "      <td>M</td>\n",
       "      <td>M</td>\n",
       "      <td>G</td>\n",
       "    </tr>\n",
       "    <tr>\n",
       "      <th>16</th>\n",
       "      <td>M</td>\n",
       "      <td>M</td>\n",
       "      <td>M</td>\n",
       "      <td>M</td>\n",
       "      <td>M</td>\n",
       "      <td>M</td>\n",
       "      <td>M</td>\n",
       "      <td>M</td>\n",
       "      <td>M</td>\n",
       "    </tr>\n",
       "    <tr>\n",
       "      <th>17</th>\n",
       "      <td>G</td>\n",
       "      <td>M</td>\n",
       "      <td>M</td>\n",
       "      <td>B</td>\n",
       "      <td>M</td>\n",
       "      <td>M</td>\n",
       "      <td>M</td>\n",
       "      <td>M</td>\n",
       "      <td>M</td>\n",
       "    </tr>\n",
       "    <tr>\n",
       "      <th>18</th>\n",
       "      <td>B</td>\n",
       "      <td>B</td>\n",
       "      <td>B</td>\n",
       "      <td>B</td>\n",
       "      <td>B</td>\n",
       "      <td>B</td>\n",
       "      <td>B</td>\n",
       "      <td>B</td>\n",
       "      <td>B</td>\n",
       "    </tr>\n",
       "    <tr>\n",
       "      <th>19</th>\n",
       "      <td>VG</td>\n",
       "      <td>VG</td>\n",
       "      <td>VG</td>\n",
       "      <td>VG</td>\n",
       "      <td>VG</td>\n",
       "      <td>VG</td>\n",
       "      <td>VG</td>\n",
       "      <td>VG</td>\n",
       "      <td>VG</td>\n",
       "    </tr>\n",
       "    <tr>\n",
       "      <th>20</th>\n",
       "      <td>G</td>\n",
       "      <td>G</td>\n",
       "      <td>G</td>\n",
       "      <td>M</td>\n",
       "      <td>G</td>\n",
       "      <td>G</td>\n",
       "      <td>G</td>\n",
       "      <td>G</td>\n",
       "      <td>G</td>\n",
       "    </tr>\n",
       "    <tr>\n",
       "      <th>21</th>\n",
       "      <td>VG</td>\n",
       "      <td>VG</td>\n",
       "      <td>VG</td>\n",
       "      <td>VG</td>\n",
       "      <td>VG</td>\n",
       "      <td>VG</td>\n",
       "      <td>VG</td>\n",
       "      <td>VG</td>\n",
       "      <td>VG</td>\n",
       "    </tr>\n",
       "    <tr>\n",
       "      <th>22</th>\n",
       "      <td>VB</td>\n",
       "      <td>VB</td>\n",
       "      <td>VB</td>\n",
       "      <td>VB</td>\n",
       "      <td>B</td>\n",
       "      <td>B</td>\n",
       "      <td>VB</td>\n",
       "      <td>VB</td>\n",
       "      <td>VB</td>\n",
       "    </tr>\n",
       "    <tr>\n",
       "      <th>23</th>\n",
       "      <td>VG</td>\n",
       "      <td>VG</td>\n",
       "      <td>VG</td>\n",
       "      <td>VG</td>\n",
       "      <td>VG</td>\n",
       "      <td>VG</td>\n",
       "      <td>VG</td>\n",
       "      <td>VG</td>\n",
       "      <td>VG</td>\n",
       "    </tr>\n",
       "    <tr>\n",
       "      <th>24</th>\n",
       "      <td>M</td>\n",
       "      <td>M</td>\n",
       "      <td>M</td>\n",
       "      <td>G</td>\n",
       "      <td>M</td>\n",
       "      <td>M</td>\n",
       "      <td>M</td>\n",
       "      <td>M</td>\n",
       "      <td>M</td>\n",
       "    </tr>\n",
       "    <tr>\n",
       "      <th>25</th>\n",
       "      <td>VG</td>\n",
       "      <td>VG</td>\n",
       "      <td>VG</td>\n",
       "      <td>VG</td>\n",
       "      <td>VG</td>\n",
       "      <td>VG</td>\n",
       "      <td>VG</td>\n",
       "      <td>VG</td>\n",
       "      <td>VG</td>\n",
       "    </tr>\n",
       "    <tr>\n",
       "      <th>26</th>\n",
       "      <td>M</td>\n",
       "      <td>B</td>\n",
       "      <td>B</td>\n",
       "      <td>G</td>\n",
       "      <td>B</td>\n",
       "      <td>B</td>\n",
       "      <td>B</td>\n",
       "      <td>B</td>\n",
       "      <td>B</td>\n",
       "    </tr>\n",
       "    <tr>\n",
       "      <th>27</th>\n",
       "      <td>G</td>\n",
       "      <td>G</td>\n",
       "      <td>G</td>\n",
       "      <td>G</td>\n",
       "      <td>G</td>\n",
       "      <td>G</td>\n",
       "      <td>G</td>\n",
       "      <td>G</td>\n",
       "      <td>G</td>\n",
       "    </tr>\n",
       "    <tr>\n",
       "      <th>28</th>\n",
       "      <td>G</td>\n",
       "      <td>G</td>\n",
       "      <td>G</td>\n",
       "      <td>VG</td>\n",
       "      <td>G</td>\n",
       "      <td>G</td>\n",
       "      <td>G</td>\n",
       "      <td>G</td>\n",
       "      <td>G</td>\n",
       "    </tr>\n",
       "    <tr>\n",
       "      <th>29</th>\n",
       "      <td>B</td>\n",
       "      <td>B</td>\n",
       "      <td>M</td>\n",
       "      <td>M</td>\n",
       "      <td>M</td>\n",
       "      <td>M</td>\n",
       "      <td>B</td>\n",
       "      <td>M</td>\n",
       "      <td>M</td>\n",
       "    </tr>\n",
       "  </tbody>\n",
       "</table>\n",
       "</div>"
      ],
      "text/plain": [
       "   GRNN logreg trees knn forest boost keras hard_vote soft_vote\n",
       "0     G      G     G   G      G     G     G         G         G\n",
       "1     M      B     M   M      M     M     B         M         M\n",
       "2    VG     VG    VG  VG      G     G    VG        VG        VG\n",
       "3     B      B     B   B      B     B     B         B         B\n",
       "4    VG     VG    VG  VG     VG    VG    VG        VG        VG\n",
       "5    VG     VG    VG  VG     VG    VG    VG        VG        VG\n",
       "6     G      G     G  VG      G     G     G         G         G\n",
       "7    VG     VG    VG  VG     VG    VG    VG        VG        VG\n",
       "8    VG     VG    VG  VG     VG    VG    VG        VG        VG\n",
       "9     M      M     M   M      M     M     M         M         M\n",
       "10   VB     VB    VB  VB     VB    VB    VB        VB        VB\n",
       "11    B      B     B  VB      M     M    VB         B         B\n",
       "12   VB     VB    VB  VB     VB    VB    VB        VB        VB\n",
       "13    B      B     M   B      M     M     M         M         M\n",
       "14    B      B     B   B      B     B     B         B         B\n",
       "15    G      M     G   M      M     M     M         M         G\n",
       "16    M      M     M   M      M     M     M         M         M\n",
       "17    G      M     M   B      M     M     M         M         M\n",
       "18    B      B     B   B      B     B     B         B         B\n",
       "19   VG     VG    VG  VG     VG    VG    VG        VG        VG\n",
       "20    G      G     G   M      G     G     G         G         G\n",
       "21   VG     VG    VG  VG     VG    VG    VG        VG        VG\n",
       "22   VB     VB    VB  VB      B     B    VB        VB        VB\n",
       "23   VG     VG    VG  VG     VG    VG    VG        VG        VG\n",
       "24    M      M     M   G      M     M     M         M         M\n",
       "25   VG     VG    VG  VG     VG    VG    VG        VG        VG\n",
       "26    M      B     B   G      B     B     B         B         B\n",
       "27    G      G     G   G      G     G     G         G         G\n",
       "28    G      G     G  VG      G     G     G         G         G\n",
       "29    B      B     M   M      M     M     B         M         M"
      ]
     },
     "execution_count": 64,
     "metadata": {},
     "output_type": "execute_result"
    }
   ],
   "source": [
    "y_t"
   ]
  },
  {
   "cell_type": "markdown",
   "metadata": {},
   "source": [
    "<p style=\"background-color:honeydew;padding:10px;border:2px solid mediumseagreen\"><b>Note:</b> Reported model accuracy depends on the random synthetic dataset used during the learning phase, which has been generated from the original dataset (used for testing) by means of the simple \"data augmentation\" technique. Possibility for overfitting and underfitting should be further examined, preferably with a larger dataset.</p>"
   ]
  },
  {
   "cell_type": "code",
   "execution_count": 65,
   "metadata": {},
   "outputs": [
    {
     "name": "stdout",
     "output_type": "stream",
     "text": [
      "Notebook createad on x86_64 computer running debian buster/sid and using:      \n",
      "Python 2.7.1\n",
      "IPython 5.8.0\n",
      "Scikit-learn 0.20.1\n",
      "Pandas 0.23.4\n",
      "Numpy 1.15.4\n",
      "\n"
     ]
    }
   ],
   "source": [
    "import sys, IPython, platform, sklearn\n",
    "print(\"Notebook createad on {:s} computer running {:s} and using:\\\n",
    "      \\nPython {:s}\\nIPython {:s}\\nScikit-learn {:s}\\nPandas {:s}\\nNumpy {:s}\\n\"\\\n",
    "      .format(platform.machine(), ' '.join(platform.linux_distribution()[:2]), sys.version[:5], \n",
    "              IPython.__version__, sklearn.__version__, pd.__version__, np.__version__))"
   ]
  }
 ],
 "metadata": {
  "kernelspec": {
   "display_name": "Python 2",
   "language": "python",
   "name": "python2"
  },
  "language_info": {
   "codemirror_mode": {
    "name": "ipython",
    "version": 2
   },
   "file_extension": ".py",
   "mimetype": "text/x-python",
   "name": "python",
   "nbconvert_exporter": "python",
   "pygments_lexer": "ipython2",
   "version": "2.7.15"
  }
 },
 "nbformat": 4,
 "nbformat_minor": 2
}
